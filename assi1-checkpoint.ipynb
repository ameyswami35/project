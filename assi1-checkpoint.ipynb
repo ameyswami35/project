{
 "cells": [
  {
   "cell_type": "code",
   "execution_count": 1,
   "id": "3ae324ed",
   "metadata": {},
   "outputs": [],
   "source": [
    "import pandas as pd\n",
    "import numpy as np\n"
   ]
  },
  {
   "cell_type": "code",
   "execution_count": 9,
   "id": "ec642f78",
   "metadata": {},
   "outputs": [],
   "source": [
    "#reading data from excel file\n",
    "data_df=pd.read_excel('Assignment1.xlsx')"
   ]
  },
  {
   "cell_type": "code",
   "execution_count": null,
   "id": "6d5960c9",
   "metadata": {},
   "outputs": [],
   "source": []
  },
  {
   "cell_type": "code",
   "execution_count": 10,
   "id": "9db7fed8",
   "metadata": {},
   "outputs": [
    {
     "data": {
      "text/html": [
       "<div>\n",
       "<style scoped>\n",
       "    .dataframe tbody tr th:only-of-type {\n",
       "        vertical-align: middle;\n",
       "    }\n",
       "\n",
       "    .dataframe tbody tr th {\n",
       "        vertical-align: top;\n",
       "    }\n",
       "\n",
       "    .dataframe thead th {\n",
       "        text-align: right;\n",
       "    }\n",
       "</style>\n",
       "<table border=\"1\" class=\"dataframe\">\n",
       "  <thead>\n",
       "    <tr style=\"text-align: right;\">\n",
       "      <th></th>\n",
       "      <th>Transaction date</th>\n",
       "      <th>House Age</th>\n",
       "      <th>Distance from nearest Metro station (km)</th>\n",
       "      <th>Number of convenience stores</th>\n",
       "      <th>latitude</th>\n",
       "      <th>longitude</th>\n",
       "      <th>Number of bedrooms</th>\n",
       "      <th>House size (sqft)</th>\n",
       "      <th>House price of unit area</th>\n",
       "    </tr>\n",
       "  </thead>\n",
       "  <tbody>\n",
       "    <tr>\n",
       "      <th>0</th>\n",
       "      <td>2012.916667</td>\n",
       "      <td>32.0</td>\n",
       "      <td>84.87882</td>\n",
       "      <td>10</td>\n",
       "      <td>24.98298</td>\n",
       "      <td>121.54024</td>\n",
       "      <td>1</td>\n",
       "      <td>575</td>\n",
       "      <td>37.9</td>\n",
       "    </tr>\n",
       "    <tr>\n",
       "      <th>1</th>\n",
       "      <td>2012.916667</td>\n",
       "      <td>19.5</td>\n",
       "      <td>306.59470</td>\n",
       "      <td>9</td>\n",
       "      <td>24.98034</td>\n",
       "      <td>121.53951</td>\n",
       "      <td>2</td>\n",
       "      <td>1240</td>\n",
       "      <td>42.2</td>\n",
       "    </tr>\n",
       "    <tr>\n",
       "      <th>2</th>\n",
       "      <td>2013.583333</td>\n",
       "      <td>13.3</td>\n",
       "      <td>561.98450</td>\n",
       "      <td>5</td>\n",
       "      <td>24.98746</td>\n",
       "      <td>121.54391</td>\n",
       "      <td>3</td>\n",
       "      <td>1060</td>\n",
       "      <td>47.3</td>\n",
       "    </tr>\n",
       "    <tr>\n",
       "      <th>3</th>\n",
       "      <td>2013.500000</td>\n",
       "      <td>13.3</td>\n",
       "      <td>561.98450</td>\n",
       "      <td>5</td>\n",
       "      <td>24.98746</td>\n",
       "      <td>121.54391</td>\n",
       "      <td>2</td>\n",
       "      <td>875</td>\n",
       "      <td>54.8</td>\n",
       "    </tr>\n",
       "    <tr>\n",
       "      <th>4</th>\n",
       "      <td>2012.833333</td>\n",
       "      <td>5.0</td>\n",
       "      <td>390.56840</td>\n",
       "      <td>5</td>\n",
       "      <td>24.97937</td>\n",
       "      <td>121.54245</td>\n",
       "      <td>1</td>\n",
       "      <td>491</td>\n",
       "      <td>43.1</td>\n",
       "    </tr>\n",
       "  </tbody>\n",
       "</table>\n",
       "</div>"
      ],
      "text/plain": [
       "   Transaction date  House Age  Distance from nearest Metro station (km)  \\\n",
       "0       2012.916667       32.0                                  84.87882   \n",
       "1       2012.916667       19.5                                 306.59470   \n",
       "2       2013.583333       13.3                                 561.98450   \n",
       "3       2013.500000       13.3                                 561.98450   \n",
       "4       2012.833333        5.0                                 390.56840   \n",
       "\n",
       "   Number of convenience stores  latitude  longitude  Number of bedrooms  \\\n",
       "0                            10  24.98298  121.54024                   1   \n",
       "1                             9  24.98034  121.53951                   2   \n",
       "2                             5  24.98746  121.54391                   3   \n",
       "3                             5  24.98746  121.54391                   2   \n",
       "4                             5  24.97937  121.54245                   1   \n",
       "\n",
       "   House size (sqft)  House price of unit area  \n",
       "0                575                      37.9  \n",
       "1               1240                      42.2  \n",
       "2               1060                      47.3  \n",
       "3                875                      54.8  \n",
       "4                491                      43.1  "
      ]
     },
     "execution_count": 10,
     "metadata": {},
     "output_type": "execute_result"
    }
   ],
   "source": [
    "#checking either data is visible or not by printing data of 1st 5 rows\n",
    "data_df.head() "
   ]
  },
  {
   "cell_type": "code",
   "execution_count": 11,
   "id": "d999991b",
   "metadata": {},
   "outputs": [],
   "source": [
    "#define x and y\n",
    "# x contains all indepedent values so we are droping house price that is last coloum\n",
    "# y contains depedent variable so we are adding last coloum to this\n",
    "\n",
    "x=data_df.drop(['House price of unit area'],axis=1).values\n",
    "y=data_df['House price of unit area'].values"
   ]
  },
  {
   "cell_type": "code",
   "execution_count": null,
   "id": "4f3ebb3b",
   "metadata": {},
   "outputs": [],
   "source": []
  },
  {
   "cell_type": "code",
   "execution_count": 13,
   "id": "b9b4bed8",
   "metadata": {},
   "outputs": [],
   "source": [
    "#spliting dataset in training and test set by using Scikit library\n",
    "from sklearn.model_selection import train_test_split\n",
    "x_train,x_test,y_train,y_test=train_test_split(x,y,test_size=0.3, random_state=0)\n"
   ]
  },
  {
   "cell_type": "code",
   "execution_count": 15,
   "id": "02d837a6",
   "metadata": {},
   "outputs": [
    {
     "data": {
      "text/plain": [
       "LinearRegression()"
      ]
     },
     "execution_count": 15,
     "metadata": {},
     "output_type": "execute_result"
    }
   ],
   "source": [
    "# To train model on training set from scikit librarywe are using linearRegression\n",
    "from sklearn.linear_model import LinearRegression\n",
    "ml=LinearRegression()\n",
    "ml.fit(x_train,y_train)"
   ]
  },
  {
   "cell_type": "code",
   "execution_count": 16,
   "id": "520df8cb",
   "metadata": {},
   "outputs": [
    {
     "name": "stdout",
     "output_type": "stream",
     "text": [
      "[40.7804722  12.805352   42.16085747 12.6702116  43.36980327 39.62770124\n",
      " 40.44094692 34.21096367 49.81373119 46.33989434 46.03672301 40.98067438\n",
      " 40.12947062 40.14736707 47.72439088 38.38485376 40.29837212 42.20203555\n",
      " 41.35145464 42.21138834 49.8092561  31.48815258 39.76741586 45.89075049\n",
      " 46.64987279 43.51600351 46.42266491 26.33812824 48.90459082 21.90610181\n",
      " 45.36470624 35.79756643 43.55381684 38.69311247 44.27923486 32.93594636\n",
      " 47.62234301 40.31700382 52.9111561   7.23249041 52.98781456 33.32890162\n",
      " 34.50325113 49.47534614 15.47909787 43.75953068 42.25073016 12.99833608\n",
      " 34.42850316 48.84055132 53.94431235 38.84318803 47.71937081 25.68534788\n",
      " 31.29914754 34.28001234 49.41776033 41.03177133 43.64243632 33.77341047\n",
      " 44.09225251 43.66999864 40.15876442 47.23407862 36.98526294 30.17992379\n",
      "  9.46622979 35.26200129 46.86488847 39.57267801 31.56850958 46.57520036\n",
      " 44.75667593 31.34285327 41.20586645 36.65128085 31.75510211 13.40125192\n",
      " 47.50567661 45.23308578 47.30788601 29.63547154 43.56545651 31.90244812\n",
      " 35.50125557 33.81187072 42.210955   46.05158211 53.77262185 48.03169067\n",
      " 41.25157208 43.40360075 33.13238117 34.13421491 24.12667293 39.60406416\n",
      " 35.09271448 43.94220427 16.70294094 46.160381   41.96595992 40.57118341\n",
      " 41.75348665 42.72627024 40.95133919 29.49106618 43.61038692  8.97964983\n",
      " 44.49187736 15.44469246 45.62032114 42.65150679 33.37352634 42.64040755\n",
      " 48.28105493 38.36275655 48.25208222 39.52307696 37.2452039  31.21466489\n",
      " 36.75353744 37.93676014 32.62840103 44.78398912 49.8370506 ]\n"
     ]
    }
   ],
   "source": [
    "#Predict the test set results\n",
    "y_pred=ml.predict(x_test)\n",
    "print(y_pred)"
   ]
  },
  {
   "cell_type": "code",
   "execution_count": 17,
   "id": "13747aba",
   "metadata": {},
   "outputs": [
    {
     "data": {
      "text/plain": [
       "array([46.86778468])"
      ]
     },
     "execution_count": 17,
     "metadata": {},
     "output_type": "execute_result"
    }
   ],
   "source": [
    "#checking price of house from random input data\n",
    "ml.predict([[2012.916667,32.0,84.87882,10,24.98298,121.54024,1,575]])"
   ]
  },
  {
   "cell_type": "code",
   "execution_count": 18,
   "id": "8fdea8ce",
   "metadata": {},
   "outputs": [
    {
     "data": {
      "text/plain": [
       "0.5791324394752618"
      ]
     },
     "execution_count": 18,
     "metadata": {},
     "output_type": "execute_result"
    }
   ],
   "source": [
    "from sklearn.metrics import r2_score\n",
    "r2_score(y_test,y_pred)"
   ]
  },
  {
   "cell_type": "code",
   "execution_count": null,
   "id": "1af58f1a",
   "metadata": {},
   "outputs": [],
   "source": [
    "\n"
   ]
  },
  {
   "cell_type": "code",
   "execution_count": 25,
   "id": "3c874008",
   "metadata": {},
   "outputs": [
    {
     "data": {
      "text/plain": [
       "<seaborn.axisgrid.FacetGrid at 0x20d44e59e20>"
      ]
     },
     "execution_count": 25,
     "metadata": {},
     "output_type": "execute_result"
    },
    {
     "data": {
      "image/png": "[encoded data removed]",
      "text/plain": [
       "<Figure size 500x500 with 1 Axes>"
      ]
     },
     "metadata": {},
     "output_type": "display_data"
    }
   ],
   "source": [
    "# seaborn function is used for statistical plotting in Python\n",
    "import seaborn as sns\n",
    "sns.displot(y_test-y_pred,kind='kde')"
   ]
  },
  {
   "cell_type": "code",
   "execution_count": null,
   "id": "1363fcf3",
   "metadata": {
    "scrolled": true
   },
   "outputs": [],
   "source": []
  },
  {
   "cell_type": "code",
   "execution_count": null,
   "id": "9caa1c10",
   "metadata": {},
   "outputs": [],
   "source": []
  },
  {
   "cell_type": "code",
   "execution_count": null,
   "id": "0f7abe04",
   "metadata": {},
   "outputs": [],
   "source": []
  },
  {
   "cell_type": "code",
   "execution_count": null,
   "id": "59694356",
   "metadata": {},
   "outputs": [],
   "source": []
  },
  {
   "cell_type": "code",
   "execution_count": null,
   "id": "acb888dc",
   "metadata": {},
   "outputs": [],
   "source": []
  }
 ],
 "metadata": {
  "kernelspec": {
   "display_name": "Python 3 (ipykernel)",
   "language": "python",
   "name": "python3"
  },
  "language_info": {
   "codemirror_mode": {
    "name": "ipython",
    "version": 3
   },
   "file_extension": ".py",
   "mimetype": "text/x-python",
   "name": "python",
   "nbconvert_exporter": "python",
   "pygments_lexer": "ipython3",
   "version": "3.11.0"
  }
 },
 "nbformat": 4,
 "nbformat_minor": 5
}
